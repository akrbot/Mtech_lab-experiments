{
  "cells": [
    {
      "cell_type": "code",
      "execution_count": 3,
      "metadata": {
        "colab": {
          "base_uri": "https://localhost:8080/"
        },
        "id": "JNj_AozJsAEh",
        "outputId": "ec6c0354-64e3-465a-c188-0780d8191293"
      },
      "outputs": [
        {
          "name": "stdout",
          "output_type": "stream",
          "text": [
            "Enter the number of elements: 3\n",
            "Enter element 1 of the array: 3\n",
            "Enter element 2 of the array: 2\n",
            "Enter element 3 of the array: 1\n",
            "Enter index for element 1: 2\n",
            "Enter index for element 2: 1\n",
            "Enter index for element 3: 0\n",
            "Reordered array: [1, 2, 3]\n"
          ]
        }
      ],
      "source": [
        "def reorder_elements(arr, index):\n",
        "    # Create a new list to store reordered elements\n",
        "    reordered_arr = [0] * len(arr)\n",
        "\n",
        "    # Reorder elements according to index\n",
        "    for i in range(len(arr)):\n",
        "        reordered_arr[index[i]] = arr[i]\n",
        "\n",
        "    return reordered_arr\n",
        "\n",
        "# Input the number of elements\n",
        "n = int(input(\"Enter the number of elements: \"))\n",
        "\n",
        "# Input the elements of the array\n",
        "arr = []\n",
        "for i in range(n):\n",
        "    arr.append(int(input(f\"Enter element {i+1} of the array: \")))\n",
        "\n",
        "# Input the elements of the index array\n",
        "index = []\n",
        "for i in range(n):\n",
        "    index.append(int(input(f\"Enter index for element {i+1}: \")))\n",
        "\n",
        "# Reorder the array based on the index\n",
        "reordered_arr = reorder_elements(arr, index)\n",
        "\n",
        "# Output the reordered array\n",
        "print(\"Reordered array:\", reordered_arr)\n",
        "\n",
        "\n"
      ]
    },
    {
      "cell_type": "code",
      "execution_count": 7,
      "metadata": {
        "colab": {
          "base_uri": "https://localhost:8080/"
        },
        "id": "eleEAvyws7EY",
        "outputId": "801dee9d-88e2-47cd-b2b9-b25aab6f548c"
      },
      "outputs": [
        {
          "data": {
            "text/plain": [
              "15"
            ]
          },
          "execution_count": 7,
          "metadata": {},
          "output_type": "execute_result"
        }
      ],
      "source": [
        "def calculate_trace(matrix):\n",
        "    # Ensure the matrix is square\n",
        "    n = len(matrix)\n",
        "    if not all(len(row) == n for row in matrix):\n",
        "        raise ValueError(\"The matrix must be square.\")\n",
        "\n",
        "    # Calculate the trace by summing up the diagonal elements\n",
        "    trace = sum(matrix[i][i] for i in range(n))\n",
        "    return trace\n",
        "\n",
        "# Input Matrix\n",
        "matrix = [[1,2,3],\n",
        "          [4,5,6],\n",
        "          [7,8,9]]\n",
        "\n",
        "calculate_trace(matrix)"
      ]
    },
    {
      "cell_type": "code",
      "execution_count": 9,
      "metadata": {
        "colab": {
          "base_uri": "https://localhost:8080/"
        },
        "id": "zq04YU4vtwLU",
        "outputId": "2962ea56-cab5-4027-ffe1-f601b3b98b65"
      },
      "outputs": [
        {
          "name": "stdout",
          "output_type": "stream",
          "text": [
            "[1, 4]\n",
            "[2, 5]\n",
            "[3, 6]\n"
          ]
        }
      ],
      "source": [
        "def print_matrix(matrix):\n",
        "    # Iterate over each row in the matrix\n",
        "    for row in matrix:\n",
        "        # Print each row as a space-separated string of numbers\n",
        "        # print(\" \".join(map(str, row)))\n",
        "        print(row)\n",
        "\n",
        "def transpose_matrix(matrix):\n",
        "    # Get the number of rows and columns\n",
        "    rows = len(matrix)\n",
        "    cols = len(matrix[0])\n",
        "\n",
        "    # Initialize the transpose matrix with switched dimensions\n",
        "    # it will be all zero matrix with switched dimensions\n",
        "    transpose = []\n",
        "    for i in range(0,cols):\n",
        "      transpose.append([0]*rows) # if rows = 3 [0,0,0] will be appended\n",
        "\n",
        "    # Fill the transpose matrix by swapping rows with columns\n",
        "    for i in range(rows):\n",
        "        for j in range(cols):\n",
        "            transpose[j][i] = matrix[i][j]\n",
        "\n",
        "    return transpose\n",
        "\n",
        "# Input matrix\n",
        "matrix = [[1,2,3],\n",
        "          [4,5,6]]\n",
        "\n",
        "transpose_mat = transpose_matrix(matrix)\n",
        "print_matrix(transpose_mat)"
      ]
    }
  ],
  "metadata": {
    "colab": {
      "provenance": []
    },
    "kernelspec": {
      "display_name": "Python 3",
      "name": "python3"
    },
    "language_info": {
      "name": "python"
    }
  },
  "nbformat": 4,
  "nbformat_minor": 0
}
